{
 "cells": [
  {
   "cell_type": "markdown",
   "id": "fee8a459",
   "metadata": {},
   "source": [
    "# Life Expectancy Data Science Project"
   ]
  },
  {
   "cell_type": "markdown",
   "id": "3fa8906d",
   "metadata": {},
   "source": [
    "This project explores global life expectancy trends, identifies key influencing factors, and applies machine learning and clustering techniques to gain insights. The dataset consists of health, economic, and social indicators for various countries over time."
   ]
  },
  {
   "cell_type": "markdown",
   "id": "84f02551",
   "metadata": {},
   "source": [
    "## Load and Explore the Dataset"
   ]
  },
  {
   "cell_type": "code",
   "execution_count": null,
   "id": "f604ccb8",
   "metadata": {},
   "outputs": [],
   "source": [
    "\n",
    "import pandas as pd\n",
    "\n",
    "# Load the dataset\n",
    "file_path = 'Life Expectancy Data.csv'\n",
    "data = pd.read_csv(file_path)\n",
    "\n",
    "# Clean column names\n",
    "data.columns = data.columns.str.strip().str.replace(' ', '_').str.lower()\n",
    "\n",
    "# Display the first few rows\n",
    "data.head()\n"
   ]
  },
  {
   "cell_type": "markdown",
   "id": "845f70c5",
   "metadata": {},
   "source": [
    "## Step 1: Global Life Expectancy Trend Analysis"
   ]
  },
  {
   "cell_type": "code",
   "execution_count": null,
   "id": "cdf12242",
   "metadata": {},
   "outputs": [],
   "source": [
    "\n",
    "import matplotlib.pyplot as plt\n",
    "\n",
    "# Aggregate data to calculate global life expectancy trends\n",
    "global_trend = data.groupby('year')['life_expectancy'].mean().reset_index()\n",
    "\n",
    "# Plot the global trend\n",
    "plt.figure(figsize=(10, 6))\n",
    "plt.plot(global_trend['year'], global_trend['life_expectancy'], marker='o', linestyle='-')\n",
    "plt.title('Global Life Expectancy Trend')\n",
    "plt.xlabel('Year')\n",
    "plt.ylabel('Average Life Expectancy')\n",
    "plt.grid(True)\n",
    "plt.show()\n"
   ]
  },
  {
   "cell_type": "markdown",
   "id": "de9950e8",
   "metadata": {},
   "source": [
    "## Step 2: Machine Learning to Predict Life Expectancy"
   ]
  },
  {
   "cell_type": "code",
   "execution_count": null,
   "id": "ab0d6ce9",
   "metadata": {},
   "outputs": [],
   "source": [
    "\n",
    "from sklearn.model_selection import train_test_split\n",
    "from sklearn.ensemble import RandomForestRegressor\n",
    "from sklearn.metrics import mean_squared_error, r2_score\n",
    "from sklearn.preprocessing import StandardScaler\n",
    "import numpy as np\n",
    "\n",
    "# Select relevant features\n",
    "features = [\n",
    "    'adult_mortality', 'infant_deaths', 'alcohol', 'percentage_expenditure',\n",
    "    'hepatitis_b', 'measles', 'polio', 'total_expenditure', 'diphtheria',\n",
    "    'hiv/aids', 'gdp', 'population', 'thinness__1-19_years', 'thinness_5-9_years',\n",
    "    'income_composition_of_resources', 'schooling'\n",
    "]\n",
    "\n",
    "# Prepare the dataset for machine learning\n",
    "ml_data = data[features + ['life_expectancy']].dropna()\n",
    "X = ml_data[features]\n",
    "y = ml_data['life_expectancy']\n",
    "\n",
    "# Scale the features\n",
    "scaler = StandardScaler()\n",
    "X_scaled = scaler.fit_transform(X)\n",
    "\n",
    "# Split into training and testing sets\n",
    "X_train, X_test, y_train, y_test = train_test_split(X_scaled, y, test_size=0.2, random_state=42)\n",
    "\n",
    "# Train a Random Forest Regressor\n",
    "model = RandomForestRegressor(random_state=42)\n",
    "model.fit(X_train, y_train)\n",
    "\n",
    "# Evaluate the model\n",
    "y_pred = model.predict(X_test)\n",
    "mse = mean_squared_error(y_test, y_pred)\n",
    "r2 = r2_score(y_test, y_pred)\n",
    "\n",
    "print(\"Mean Squared Error:\", mse)\n",
    "print(\"R-squared:\", r2)\n",
    "\n",
    "# Feature importance\n",
    "importances = pd.DataFrame({\n",
    "    'Feature': features,\n",
    "    'Importance': model.feature_importances_\n",
    "}).sort_values(by='Importance', ascending=False)\n",
    "\n",
    "importances\n"
   ]
  },
  {
   "cell_type": "markdown",
   "id": "cc2fd0d8",
   "metadata": {},
   "source": [
    "## Step 3: Clustering and Segmentation"
   ]
  },
  {
   "cell_type": "code",
   "execution_count": null,
   "id": "14e1d158",
   "metadata": {},
   "outputs": [],
   "source": [
    "\n",
    "from sklearn.cluster import KMeans\n",
    "from sklearn.decomposition import PCA\n",
    "\n",
    "# Use health indicators for clustering\n",
    "cluster_features = [\n",
    "    'adult_mortality', 'infant_deaths', 'hiv/aids', 'thinness__1-19_years',\n",
    "    'thinness_5-9_years', 'income_composition_of_resources', 'schooling'\n",
    "]\n",
    "\n",
    "# Prepare data for clustering\n",
    "cluster_data = data[cluster_features].dropna()\n",
    "cluster_scaled = scaler.fit_transform(cluster_data)\n",
    "\n",
    "# Perform KMeans clustering\n",
    "kmeans = KMeans(n_clusters=4, random_state=42)\n",
    "clusters = kmeans.fit_predict(cluster_scaled)\n",
    "\n",
    "# Apply PCA for visualization\n",
    "pca = PCA(n_components=2)\n",
    "pca_result = pca.fit_transform(cluster_scaled)\n",
    "\n",
    "# Add clusters to PCA results\n",
    "pca_df = pd.DataFrame(pca_result, columns=['PCA1', 'PCA2'])\n",
    "pca_df['Cluster'] = clusters\n",
    "\n",
    "# Plot clusters\n",
    "plt.figure(figsize=(10, 8))\n",
    "for cluster in range(4):\n",
    "    cluster_data = pca_df[pca_df['Cluster'] == cluster]\n",
    "    plt.scatter(cluster_data['PCA1'], cluster_data['PCA2'], label=f'Cluster {cluster}')\n",
    "\n",
    "plt.title('Clustering of Countries Based on Health Indicators')\n",
    "plt.xlabel('PCA1')\n",
    "plt.ylabel('PCA2')\n",
    "plt.legend(title='Cluster')\n",
    "plt.grid(True)\n",
    "plt.show()\n"
   ]
  },
  {
   "cell_type": "markdown",
   "id": "ac501840",
   "metadata": {},
   "source": [
    "## Step 4: Causal Inference - Impact of Schooling and Healthcare"
   ]
  },
  {
   "cell_type": "code",
   "execution_count": null,
   "id": "bd0b17a5",
   "metadata": {},
   "outputs": [],
   "source": [
    "\n",
    "import statsmodels.api as sm\n",
    "\n",
    "# Analyze the effect of healthcare expenditure and schooling on life expectancy\n",
    "causal_features = ['percentage_expenditure', 'schooling']\n",
    "causal_data = data[causal_features + ['life_expectancy']].dropna()\n",
    "\n",
    "X_causal = sm.add_constant(causal_data[causal_features])  # Add constant for intercept\n",
    "y_causal = causal_data['life_expectancy']\n",
    "\n",
    "# Fit the regression model\n",
    "causal_model = sm.OLS(y_causal, X_causal).fit()\n",
    "print(causal_model.summary())\n"
   ]
  },
  {
   "cell_type": "markdown",
   "id": "3ccd0da5",
   "metadata": {},
   "source": [
    "## Step 5: Regional and Temporal Trends"
   ]
  },
  {
   "cell_type": "code",
   "execution_count": null,
   "id": "f54bd38f",
   "metadata": {},
   "outputs": [],
   "source": [
    "\n",
    "# Assign regions and analyze trends\n",
    "def assign_region(country):\n",
    "    region_mapping = {\n",
    "        'Developed': ['United States', 'Germany', 'Japan', 'Australia', 'Canada'],\n",
    "        'Asia': ['India', 'China', 'Afghanistan', 'Pakistan', 'Bangladesh'],\n",
    "        'Africa': ['Nigeria', 'South Africa', 'Kenya', 'Ethiopia', 'Ghana'],\n",
    "        'Europe': ['France', 'Italy', 'Spain', 'United Kingdom', 'Russia'],\n",
    "        'Latin America': ['Brazil', 'Mexico', 'Argentina', 'Colombia', 'Chile'],\n",
    "        'Middle East': ['Saudi Arabia', 'Iran', 'Iraq', 'Turkey', 'Israel']\n",
    "    }\n",
    "    for region, countries in region_mapping.items():\n",
    "        if country in countries:\n",
    "            return region\n",
    "    return 'Other'\n",
    "\n",
    "data['region'] = data['country'].apply(assign_region)\n",
    "regional_trends = data.groupby(['year', 'region'])['life_expectancy'].mean().reset_index()\n",
    "\n",
    "# Plot regional trends\n",
    "plt.figure(figsize=(14, 8))\n",
    "for region in regional_trends['region'].unique():\n",
    "    region_data = regional_trends[regional_trends['region'] == region]\n",
    "    plt.plot(region_data['year'], region_data['life_expectancy'], label=region)\n",
    "\n",
    "plt.title('Life Expectancy Trends by Region')\n",
    "plt.xlabel('Year')\n",
    "plt.ylabel('Life Expectancy')\n",
    "plt.legend(title='Region')\n",
    "plt.grid(True)\n",
    "plt.show()\n"
   ]
  }
 ],
 "metadata": {},
 "nbformat": 4,
 "nbformat_minor": 5
}
